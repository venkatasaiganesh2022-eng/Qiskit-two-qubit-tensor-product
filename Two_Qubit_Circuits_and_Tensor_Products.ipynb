{
  "cells": [
    {
      "cell_type": "code",
      "source": [
        "# Import libraries (already done, but good practice to show context)\n",
        "from qiskit import QuantumCircuit, transpile\n",
        "from qiskit_aer import AerSimulator\n",
        "from qiskit.visualization import plot_histogram\n",
        "import matplotlib.pyplot as plt\n",
        "\n",
        "# --- Start of Modified Circuit ---\n",
        "\n",
        "# Step 1: Create a quantum circuit with 2 qubits and 2 classical bits\n",
        "qc = QuantumCircuit(2, 2)\n",
        "\n",
        "# Step 2: Apply Hadamard gates on both qubits\n",
        "qc.h(0)  # Apply Hadamard on qubit 0\n",
        "qc.h(1)  # Apply Hadamard on qubit 1\n",
        "\n",
        "# Step 3: Measure both qubits\n",
        "qc.measure([0, 1], [0, 1])\n",
        "\n",
        "# Step 4: Use AerSimulator and run the circuit\n",
        "simulator = AerSimulator()\n",
        "compiled_circuit = transpile(qc, simulator)\n",
        "job = simulator.run(compiled_circuit, shots=1024)\n",
        "result = job.result()\n",
        "\n",
        "# Get counts\n",
        "counts = result.get_counts()\n",
        "\n",
        "# --- End of Modified Circuit ---\n",
        "\n",
        "# Step 5: Display circuit and results\n",
        "print(\"Measurement Results:\", counts)\n",
        "print(\"\\nCircuit Diagram:\")\n",
        "print(qc.draw('text', justify='left'))\n",
        "plot_histogram(counts, title=\"Counts for H on both qubits\")\n",
        "plt.show()"
      ],
      "metadata": {
        "colab": {
          "base_uri": "https://localhost:8080/"
        },
        "id": "-yb5TRW_7k0G",
        "outputId": "7f5f6609-87be-4c8a-e460-0392e0ec1580"
      },
      "id": "-yb5TRW_7k0G",
      "execution_count": 12,
      "outputs": [
        {
          "output_type": "stream",
          "name": "stdout",
          "text": [
            "Measurement Results: {'01': 267, '11': 254, '00': 244, '10': 259}\n",
            "\n",
            "Circuit Diagram:\n",
            "     ┌───┐┌─┐   \n",
            "q_0: ┤ H ├┤M├───\n",
            "     ├───┤└╥┘┌─┐\n",
            "q_1: ┤ H ├─╫─┤M├\n",
            "     └───┘ ║ └╥┘\n",
            "c: 2/══════╩══╩═\n",
            "           0  1 \n"
          ]
        }
      ]
    }
  ],
  "metadata": {
    "colab": {
      "provenance": []
    },
    "language_info": {
      "name": "python"
    },
    "kernelspec": {
      "name": "python3",
      "display_name": "Python 3"
    }
  },
  "nbformat": 4,
  "nbformat_minor": 5
}